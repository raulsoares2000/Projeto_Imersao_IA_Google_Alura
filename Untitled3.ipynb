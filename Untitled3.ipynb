{
  "nbformat": 4,
  "nbformat_minor": 0,
  "metadata": {
    "colab": {
      "provenance": [],
      "authorship_tag": "ABX9TyPK6YZbf71Xg5WWBtFvgn1s",
      "include_colab_link": true
    },
    "kernelspec": {
      "name": "python3",
      "display_name": "Python 3"
    },
    "language_info": {
      "name": "python"
    }
  },
  "cells": [
    {
      "cell_type": "markdown",
      "metadata": {
        "id": "view-in-github",
        "colab_type": "text"
      },
      "source": [
        "<a href=\"https://colab.research.google.com/github/raulsoares2000/Projeto_Imersao_IA_Google_Alura/blob/main/Untitled3.ipynb\" target=\"_parent\"><img src=\"https://colab.research.google.com/assets/colab-badge.svg\" alt=\"Open In Colab\"/></a>"
      ]
    },
    {
      "cell_type": "code",
      "execution_count": null,
      "metadata": {
        "id": "lhty7voRbry-"
      },
      "outputs": [],
      "source": [
        "\"\"\"\n",
        "O objetivo desse programa é auxiliar pessoas com dificuldade de concentração a absorverem o conteúdo de videoaulas.\n",
        "A execução se dá em usar o Gemini para processar o áudio do vídeo escolhido e gerar um texto organizado, simples, conciso e formatado para auxiliar a sua leitura.\n",
        "\n",
        "Pacotes para serem instalados:\n",
        "\n",
        "$ pip install google-generativeai\n",
        "$ pip install pydub\n",
        "\n",
        "\"\"\"\n",
        "\n",
        "from pathlib import Path\n",
        "from google.colab import userdata\n",
        "from pydub import AudioSegment\n",
        "import hashlib\n",
        "import google.generativeai as genai\n",
        "\n",
        "API_KEY=userdata.get('SUA-CHAVE')\n",
        "genai.configure(api_key=\"API_KEY\")\n",
        "\n",
        "# Insera o tema do conteúdo do vídeo e o caminho do vídeo no Colab\n",
        "assunto = input(\"Digite o assunto do vídeo: \")\n",
        "caminho_video = input(\"Insira o caminho do vídeo: \")\n",
        "\n",
        "# Salva o áudio do vídeo no formato .mp3 e faz upload no Colab\n",
        "video = AudioSegment.from_file(caminho_video, format=\"mp4\")\n",
        "video.export(\"audio.mp3\", format=\"mp3\")\n",
        "your_file = genai.upload_file(path='audio.mp3')\n",
        "\n",
        "# Cria o modelo\n",
        "generation_config = {\n",
        "  \"temperature\": 1,\n",
        "  \"top_p\": 0.95,\n",
        "  \"top_k\": 0,\n",
        "  \"max_output_tokens\": 8192,\n",
        "}\n",
        "\n",
        "safety_settings = [\n",
        "  {\n",
        "    \"category\": \"HARM_CATEGORY_HARASSMENT\",\n",
        "    \"threshold\": \"BLOCK_MEDIUM_AND_ABOVE\"\n",
        "  },\n",
        "  {\n",
        "    \"category\": \"HARM_CATEGORY_HATE_SPEECH\",\n",
        "    \"threshold\": \"BLOCK_MEDIUM_AND_ABOVE\"\n",
        "  },\n",
        "  {\n",
        "    \"category\": \"HARM_CATEGORY_SEXUALLY_EXPLICIT\",\n",
        "    \"threshold\": \"BLOCK_MEDIUM_AND_ABOVE\"\n",
        "  },\n",
        "  {\n",
        "    \"category\": \"HARM_CATEGORY_DANGEROUS_CONTENT\",\n",
        "    \"threshold\": \"BLOCK_MEDIUM_AND_ABOVE\"\n",
        "  },\n",
        "]\n",
        "\n",
        "# Define como o modelo deve se comportar\n",
        "system_instruction = f\"Você é responsável por transcrever vídeos de {assunto} de forma que pessoas com dificuldade de concentração consiga entender e estudar mais facilmente\"\n",
        "\n",
        "model = genai.GenerativeModel(model_name=\"gemini-1.5-pro-latest\",\n",
        "                              generation_config=generation_config,\n",
        "                              system_instruction=system_instruction,\n",
        "                              safety_settings=safety_settings)\n",
        "\n",
        "# Entrada\n",
        "prompt_parts = [\n",
        "  f\"Não transcreva informações que não dizem respeito a {assunto}. Transcreva de forma objetiva, concisa e organizada o conteúdo do áudio. O texto gerado deve ser feito para pessoas com dificuldade de concentração.O texto deve possuir marcações e tópicos pontuais que auxiliam a legibilidade. Palavras-chave e pontos mais importantes devem estar destacados de forma simples. Os exemplos devem ser abstraídos para que possam ser reescritos de forma clara e objetiva.\",\n",
        "  your_file\n",
        "]\n",
        "\n",
        "# Saída\n",
        "response = model.generate_content(prompt_parts)\n",
        "print(response.text)"
      ]
    }
  ]
}